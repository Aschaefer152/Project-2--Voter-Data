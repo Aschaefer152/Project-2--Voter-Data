{
 "cells": [
  {
   "cell_type": "code",
   "execution_count": null,
   "metadata": {},
   "outputs": [],
   "source": [
    "--create State_Data table\n",
    "drop table State_Data;\n",
    "create table State_Data (\n",
    "\t\"State\" VARCHAR,\n",
    "\t\"Latitude\" VARCHAR,\n",
    "\t\"Longitude\" VARCHAR,\n",
    "\t\"City\" VARCHAR\n",
    ");\n",
    "\n",
    "--vieiw table\n",
    "select * from State_Data;\n",
    "\n"
   ]
  }
 ],
 "metadata": {
  "kernelspec": {
   "display_name": "Python 3",
   "language": "python",
   "name": "python3"
  },
  "language_info": {
   "codemirror_mode": {
    "name": "ipython",
    "version": 3
   },
   "file_extension": ".py",
   "mimetype": "text/x-python",
   "name": "python",
   "nbconvert_exporter": "python",
   "pygments_lexer": "ipython3",
   "version": "3.7.6"
  }
 },
 "nbformat": 4,
 "nbformat_minor": 4
}
